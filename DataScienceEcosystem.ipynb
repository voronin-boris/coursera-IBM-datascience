{
 "cells": [
  {
   "cell_type": "markdown",
   "id": "7e97120f-e4c1-4de8-9c6c-9cbde1e0d822",
   "metadata": {},
   "source": [
    "# Data Science Tools and Ecosystem"
   ]
  },
  {
   "cell_type": "markdown",
   "id": "049879d2-30bc-4c5a-8c3e-c796d36597c8",
   "metadata": {},
   "source": [
    "In this notebook, Data Science Tools and Ecosystem are summarized."
   ]
  },
  {
   "cell_type": "markdown",
   "id": "3b896641-ba76-4c81-94e8-e70f01ccd588",
   "metadata": {},
   "source": [
    "**Objectives:**\n",
    "- List of popular DS languages\n",
    "- Commonly used Libraries\n",
    "- DS tools\n",
    "- Examples of aritmetic expressions in Python"
   ]
  },
  {
   "cell_type": "markdown",
   "id": "5d86f88f-b905-4b3c-94f5-e44bb3a2f7b7",
   "metadata": {},
   "source": [
    "Some of the popular languages that Data Scientists use are:\n",
    "1. Python\n",
    "2. R\n",
    "3. Java"
   ]
  },
  {
   "cell_type": "markdown",
   "id": "cdc6b477-c0d1-4aa8-a45d-83716715a874",
   "metadata": {},
   "source": [
    "Some of the commonly used libraries used by Data Scientists include:\n",
    "1. Pandas\n",
    "2. ggplot\n",
    "3. Matplotlib"
   ]
  },
  {
   "cell_type": "markdown",
   "id": "322ad738-bf1e-4043-8320-b52ed8a276db",
   "metadata": {},
   "source": [
    "|Data Science Tools|\n",
    "|---|\n",
    "|Jupyter Notebook|\n",
    "|RStudio|\n",
    "|PostgreSQL|"
   ]
  },
  {
   "cell_type": "markdown",
   "id": "78776c63-d5f8-4b51-af09-627e8c3c604d",
   "metadata": {},
   "source": [
    "### Below are a few examples of evaluating arithmetic expressions in Python"
   ]
  },
  {
   "cell_type": "code",
   "execution_count": 2,
   "id": "cca3e89a-840d-46ff-838c-283dd2882816",
   "metadata": {},
   "outputs": [
    {
     "data": {
      "text/plain": [
       "17"
      ]
     },
     "execution_count": 2,
     "metadata": {},
     "output_type": "execute_result"
    }
   ],
   "source": [
    "(3*4)+5 #This a simple arithmetic expression to mutiply then add integers"
   ]
  },
  {
   "cell_type": "code",
   "execution_count": 3,
   "id": "a7a45dbd-15a9-4b23-bd79-57154b5db25d",
   "metadata": {},
   "outputs": [
    {
     "data": {
      "text/plain": [
       "3.3333333333333335"
      ]
     },
     "execution_count": 3,
     "metadata": {},
     "output_type": "execute_result"
    }
   ],
   "source": [
    "200/60 #This will convert 200 minutes to hours by diving by 60"
   ]
  },
  {
   "cell_type": "markdown",
   "id": "63251faf-28a6-4b23-8ac2-181b44d0a7b5",
   "metadata": {},
   "source": [
    "## Author\n",
    "Boris V"
   ]
  },
  {
   "cell_type": "code",
   "execution_count": null,
   "id": "17e2cfa5-04c9-4589-a10c-c158e0f59cf9",
   "metadata": {},
   "outputs": [],
   "source": []
  }
 ],
 "metadata": {
  "kernelspec": {
   "display_name": "Python 3 (ipykernel)",
   "language": "python",
   "name": "python3"
  },
  "language_info": {
   "codemirror_mode": {
    "name": "ipython",
    "version": 3
   },
   "file_extension": ".py",
   "mimetype": "text/x-python",
   "name": "python",
   "nbconvert_exporter": "python",
   "pygments_lexer": "ipython3",
   "version": "3.11.9"
  }
 },
 "nbformat": 4,
 "nbformat_minor": 5
}
